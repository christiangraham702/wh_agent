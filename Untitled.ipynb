{
 "cells": [
  {
   "cell_type": "code",
   "execution_count": 3,
   "id": "988e49d5-36bc-4014-b192-70eb97f1369c",
   "metadata": {},
   "outputs": [],
   "source": [
    "from bs4 import BeautifulSoup\n",
    "import requests\n",
    "from langchain_community.document_loaders import WebBaseLoader, "
   ]
  },
  {
   "cell_type": "code",
   "execution_count": 4,
   "id": "6377a8ac-25a5-4557-9c5d-f6072c8f6d61",
   "metadata": {},
   "outputs": [],
   "source": [
    "response = requests.get(\"https://www.whitehouse.gov/news/\")"
   ]
  },
  {
   "cell_type": "code",
   "execution_count": 29,
   "id": "6815152e-214e-41bc-a496-56ea9954a245",
   "metadata": {},
   "outputs": [
    {
     "data": {
      "text/plain": [
       "2"
      ]
     },
     "execution_count": 29,
     "metadata": {},
     "output_type": "execute_result"
    }
   ],
   "source": [
    "soup = BeautifulSoup(response.text, 'html.parser')\n",
    "1+1"
   ]
  },
  {
   "cell_type": "code",
   "execution_count": 8,
   "id": "232559e1-2bf6-426d-8dc6-bca76ee4466f",
   "metadata": {},
   "outputs": [
    {
     "data": {
      "text/plain": [
       "<title>News – The White House</title>"
      ]
     },
     "execution_count": 8,
     "metadata": {},
     "output_type": "execute_result"
    }
   ],
   "source": [
    "soup.title"
   ]
  },
  {
   "cell_type": "code",
   "execution_count": 16,
   "id": "9ef353da-943a-437e-a1e9-80e421803046",
   "metadata": {},
   "outputs": [
    {
     "data": {
      "text/plain": [
       "10"
      ]
     },
     "execution_count": 16,
     "metadata": {},
     "output_type": "execute_result"
    }
   ],
   "source": [
    "len(soup.find_all('h2'))"
   ]
  },
  {
   "cell_type": "code",
   "execution_count": 26,
   "id": "42b68c66-a23f-461a-a147-435b2fb732e3",
   "metadata": {},
   "outputs": [
    {
     "data": {
      "text/plain": [
       "['https://www.whitehouse.gov/remarks/2025/01/remarks-by-president-trump-before-air-force-one-departure/',\n",
       " 'https://www.whitehouse.gov/briefings-statements/2025/01/readout-of-president-donald-j-trumps-call-with-king-abdullah-ii-of-jordan/',\n",
       " 'https://www.whitehouse.gov/fact-sheets/2025/01/fact-sheet-president-donald-j-trump-enforces-overwhelmingly-popular-demand-to-stop-taxpayer-funding-of-abortion/',\n",
       " 'https://www.whitehouse.gov/briefings-statements/2025/01/white-house-statement-on-hostage-release/',\n",
       " 'https://www.whitehouse.gov/briefings-statements/2025/01/president-trump-announces-appointments-to-the-white-house-offices-of-communications-public-liaison-and-cabinet-affairs/',\n",
       " 'https://www.whitehouse.gov/presidential-actions/2025/01/memorandum-for-the-secretary-of-state-the-secretary-of-defense-the-secretary-of-health-and-human-services-the-administrator-of-the-united-states-for-international-development/',\n",
       " 'https://www.whitehouse.gov/presidential-actions/2025/01/enforcing-the-hyde-amendment/',\n",
       " 'https://www.whitehouse.gov/remarks/2025/01/remarks-by-president-trump-at-executive-order-signing/',\n",
       " 'https://www.whitehouse.gov/remarks/2025/01/remarks-by-president-trump-during-hurricane-helene-briefing/',\n",
       " 'https://www.whitehouse.gov/presidential-actions/2025/01/the-first-100-hours-historic-action-to-kick-off-americas-golden-age/']"
      ]
     },
     "execution_count": 26,
     "metadata": {},
     "output_type": "execute_result"
    }
   ],
   "source": [
    "articles = []\n",
    "\n",
    "for h2 in soup.find_all('h2'):\n",
    "    articles.append(h2.find('a').get('href'))\n",
    "\n",
    "articles"
   ]
  },
  {
   "cell_type": "code",
   "execution_count": 28,
   "id": "e9591bf7-3d73-4fee-be9d-4467f96324ba",
   "metadata": {},
   "outputs": [
    {
     "ename": "_IncompleteInputError",
     "evalue": "incomplete input (1805281903.py, line 1)",
     "output_type": "error",
     "traceback": [
      "\u001b[0;36m  Cell \u001b[0;32mIn[28], line 1\u001b[0;36m\u001b[0m\n\u001b[0;31m    for article in articles:\u001b[0m\n\u001b[0m                            ^\u001b[0m\n\u001b[0;31m_IncompleteInputError\u001b[0m\u001b[0;31m:\u001b[0m incomplete input\n"
     ]
    }
   ],
   "source": [
    "for article in articles:\n",
    "    response = "
   ]
  },
  {
   "cell_type": "code",
   "execution_count": 27,
   "id": "34725fa7-ff43-4e91-91fa-6d92fecba3ef",
   "metadata": {},
   "outputs": [
    {
     "data": {
      "text/plain": [
       "2"
      ]
     },
     "execution_count": 27,
     "metadata": {},
     "output_type": "execute_result"
    }
   ],
   "source": [
    "1+1"
   ]
  },
  {
   "cell_type": "code",
   "execution_count": 31,
   "id": "c201a6de-24e3-48a2-998f-8fe743b91b78",
   "metadata": {},
   "outputs": [
    {
     "data": {
      "text/plain": [
       "\"\\n\\n\\n\\n\\n\\n\\n\\n\\n\\n\\n\\n\\n\\n\\n\\n\\n\\n\\n\\n\\n\\n\\n\\n\\n\\nThe First 100 Hours: Historic Action to Kick off America's Golden Age – The White House\\n\\n\\n\\n\\n\\n\\n\\n\\n\\n\\n\\n\\n\\n\\n\\n\\n\\n\\n\\n\\n\\n\\n\\n\\n\\n\\n\\n\\n\\n\\n\\n\\n\\n\\n\\n\\n\\n\\n\\n\\n\\n\\n\\n\\n\\n\\n\\n\\n\\n\\n\\nMenu\\n\\n\\n\\n\\n\\nNews\\nAdministration\\nIssues\\n \\n\\n\\n\\n\\n\\n\\n\\nThe White House\\n\\n\\n\\n\\n\\nSearch\\n\\n\\n\\n\\n\\n\\n\\n\\n\\n\\n\\n\\n\\n\\n\\nNews\\nAdministration\\nIssues\\n \\n\\n\\n\\n\\nX\\n\\n\\nInstagram\\n\\n\\nFacebook\\n\\n\\n\\n\\n\\n\\n\\n\\n\\n\\n\\nSearch for:\\n\\nPress Enter to Search\\n\\n\\n\\n\\n\\n\\n\\n\\n\\n\\n\\n\\nPresidential Actions \\n\\n\\t\\t\\t\\t\\tThe First 100 Hours: Historic Action to Kick Off America’s Golden Age\\t\\t\\t\\t\\n\\n\\nJanuary 24, 2025 \\n\\n\\n\\n\\nPresident Donald Trump’s second term is off to an historic start.\\xa0The President is wasting no time delivering on the promises he made to the American people. The President signed more executive orders on his first day in office than any other president in history.\\xa0Within the first 100 hours of his second administration, President Trump taken hundreds of executive actions to secure the border, deport criminal illegal immigrants, unleash American prosperity, lower costs, increase government transparency, and reinstitute merit-based hiring in the federal government.\\xa0The President has already secured over $1 trillion in historic new investments.\\xa0\\nWe’re witnessing the Trump Effect:\\n\\nPresident Trump is securing historic investments just days after being sworn in.\\n\\nPresident Trump secured $500 billion in private sector investment for the largest AI infrastructure project in history, with Softbank CEO Masayoshi Son, Oracle co-founder Larry Ellison and OpenAI CEO Sam Altman all stating that it would not have been possible if not for President Trump’s election victory and leadership.\\nSaudi Arabia “wants to invest $600 billion in the United States over the next four years.”\\nStellantis announced it will restart an assembly plant in Illinois and build the new Dodge Durango in Detroit.\\n\\nThe Detroit Free Press: “The news, announced in a letter Wednesday to employees from North America Chief Operating Officer Antonio Filosa, also provided some good news to workers in Toledo, Ohio, and Kokomo, Indiana, where investments are planned. The Belvidere plant will start production of a new midsize truck in the next two years. The letter said company Chairman John Elkann had met last week with President Donald Trump before his inauguration on Monday. Elkann shared ‘our enthusiasm for his strong commitment to the United States auto industry and all that this means for American jobs and the broader economy.’”\\n\\n\\n\\n\\n\\n\\nPresident Trump is already securing the border and arresting criminal illegal immigrants.\\nThe Border Patrol is reporting a significant drop already in attempted illegal crossings.\\nFox News: “The U.S. southern border has seen a sharp drop in illegal immigrant encounters in the first days of the Trump administration, compared to the final few days of the Biden administration.”\\n\\nICE is at work rounding up criminal aliens.\\n\\nFox News: “Information obtained by Fox News Digital, shows that between midnight Jan. 21 and 9 a.m. Jan 22, a 33-hour period, ICE Enforcement and Removal Operations (ERO) arrested more than 460 illegal immigrants that include criminal histories of sexual assault, robbery, burglary, aggravated assault, drugs and weapons offenses, resisting arrest and domestic violence.”\\nBreitbart News: “President Donald Trump’s administration arrested 538 illegal aliens on Thursday, ranging from child predators to gang members and a suspected terrorist.”\\n\\n\\nThe Trump Administration immediately shut down the CBP One app, which “paroled” over 1 million illegal immigrants.\\nDeportation flights have already started and the military is assisting with the effort.\\nThe Department of Homeland Security reinstated official use of the term “illegal alien” over “undocumented noncitizen,” and the DOJ announced it would be taking action against lawless sanctuary city policies.\\nPresident Donald Trump signed an executive order to designate the cartels as terrorist organizations.\\n\\n\\n\\n\\nCommon sense has been restored to the government.\\n\\nPresident Trump signed a series of executive orders ensuring the elimination of discriminatory DEI practices and ensuring merit-based hiring.\\nDEI staff are being placed on leave.\\nThe Federal Aviation Administration must now return to merit-based hiring.\\nPresident Trump ended an affirmative action mandate in federal government hiring.\\nPresident Trump signed an executive order affirming the reality that there are only two sexes.\\nThe State Department issued guidance that embassies should only be flying the American flag, and not any activist flags.\\nPresident Donald Trump signed an executive order telling agencies to stop remote work practices and directing workers to return to the office.\\nThe State Department subsequently ordered workers to return to working in the office.\\nPresident Donald Trump is unleashing American energy.\\nPresident Trump declared a National Energy Emergency to unlock America’s full energy potential and bring down costs for American families.\\nPresident Trump rescinded every one of Joe Biden’s industry-killing, pro-China, and anti-American energy regulations, empowering consumer choice in vehicles, showerheads, toilets, washing machines, lightbulbs, and dishwashers.\\nPresident Trump withdrew the United States from the disastrous Paris Climate Agreement that unfairly ripped off our country.\\nPresident Trump paused all new federal leasing and permitting for massive wind farms that degrade our natural landscapes and fail to serve American energy consumers.\\nPresident Trump reversed the burdensome regulations that impeded Alaska’s ability to develop its vast natural resources.\\nPresident Trump terminated Biden’s harmful electric vehicle mandate.\\n\\n\\n\\n\\xa0\\xa0These opening few days can be summarized as Promises Made, Promises Kept:\\xa0\\n\\nPresident Donald Trump said he would declassify the JFK Files. He did.\\nPresident Donald Trump said he would end the EV mandate. He did.\\nPresident Donald Trump said he would have the backs of the brave men and women in law enforcement. He did just that by pardoning two Washington D.C. Police officers that were unjustly prosecuted. The Metropolitan Police Department thanked President Trump for the pardon.\\nPresident Donald Trump said he would use the military to secure the border. The Pentagon is deploying troops to the border and the Coast Guard is surging assets to the Gulf of America.\\nPresident Trump said we would drill, baby, drill. The President signed executive orders to open up offshore drilling and allow more energy exploration in Alaska.\\nPresident Donald Trump said he would end the weaponization of government. He signed an executive order doing just that.\\nPresident Donald Trump said he would pardon the J6 Hostages. He did.\\nPresident Donald Trump said he would end government censorship. On his first day in office, he signed an executive order restoring freedom of speech and ending government censorship.\\n\\nPresident Trump is being praised for his historic leadership:The Steel Manufacturers Association: “President Trump has repeatedly demonstrated his strong support for American steel workers. He reiterated that support on day one by directing his agencies to investigate unfair trade and its impact on domestic manufacturing.”American Fuel & Petrochemical Manufacturers President and CEO Chet Thompson: “President Trump promised to end gas car bans and vehicle mandates on Day 1 of his new administration, and we are pleased to see that work already underway. Thank you, President Trump.”American Petroleum Institute President and CEO Mike Sommers: “Americans sent a clear message at the ballot box, and President Trump is answering the call on Day 1. U.S. energy dominance will drive our nation’s economic and security agenda. This is a new day for American energy, and we applaud President Trump for moving swiftly to chart a new path where U.S. oil and natural gas are embraced, not restricted.”Job Creators Network CEO Alfredo Ortiz: “Trump’s two-fold approach of boosting oil and gas production and repealing the Biden administration’s green energy mandates will make American energy cheaper, reliable and more efficient.”Mortgage Bankers Association President and CEO Bob Broeksmit: “President Trump campaigned on lowering costs for Americans, and we appreciate housing supply and affordability being included in an executive order on this issue. We support efforts to cut unnecessary regulatory red tape and to pursue federal housing program enhancements that make renting and homeownership more attainable and sustainable.”Professional Trucking Association Group: “President Trump’s decision to freeze regulations and curtail bureaucratic overreach is commendable. This is precisely what America needs: reduced government interference and increased freedom for small trucking businesses and entrepreneurs to flourish.”NetChoice CEO Steve DelBianco: “Upon returning to office, President Trump showed that America is ready to lead in tech and innovation again. By repealing Biden’s restrictive rules on energy production and AI development, the president is steering America to remain dominant in creating the best technology in the world.”United Against Nuclear Iran Chairman Governor Jeb Bush and CEO Ambassador Mark Wallace: “We applaud President Trump for his decision today to redesignate the Houthis as an FTO. UANI in its recommended action plan for the Trump administration’s first 100 days suggested that the president redesignate the Houthis as an FTO. This will now provide the U.S. government additional authorities to hold the Houthis accountable for their threats to international commerce and U.S. allies and partners.”\\n\\n\\n\\n\\n\\n\\n\\n\\n\\n\\n\\nNews\\nAdministration\\nIssues\\n \\n\\n\\n\\n\\n\\nThe White House\\n\\n\\t\\t\\t\\t\\t\\t\\t1600 Pennsylvania Ave NW\\n\\t\\t\\t\\t\\t\\t\\tWashington, DC 20500\\t\\t\\t\\t\\t\\t\\n\\n\\n\\n\\nX\\n\\n\\nInstagram\\n\\n\\nFacebook\\n\\n\\n\\n\\n\\n\\n\\n\\n\\n\\n\\n\\n\\n\\n\\t\\t\\t\\t\\t\\t\\tWH.GOV\\t\\t\\t\\t\\t\\t\\n\\n\\n\\nCopyright\\nPrivacy\\n \\n\\n\\n\\n\\n\\n \\n\\n\\n\\n\\n\\n\\n\\n\\n\\n\\n\\n\\n\\n\""
      ]
     },
     "execution_count": 31,
     "metadata": {},
     "output_type": "execute_result"
    }
   ],
   "source": [
    "response = requests.get('https://www.whitehouse.gov/presidential-actions/2025/01/the-first-100-hours-historic-action-to-kick-off-americas-golden-age/')\n",
    "article_soup = BeautifulSoup(response.text, 'html.parser')"
   ]
  },
  {
   "cell_type": "code",
   "execution_count": 35,
   "id": "829f2a14-41ec-41be-9de0-ed131bc17403",
   "metadata": {},
   "outputs": [
    {
     "data": {
      "text/plain": [
       "<title>The First 100 Hours: Historic Action to Kick off America's Golden Age – The White House</title>"
      ]
     },
     "execution_count": 35,
     "metadata": {},
     "output_type": "execute_result"
    }
   ],
   "source": [
    "article_soup.title"
   ]
  },
  {
   "cell_type": "code",
   "execution_count": 41,
   "id": "0504d2ad-0750-4f7b-b3c9-830db1e67bc2",
   "metadata": {},
   "outputs": [],
   "source": [
    "metas = article_soup.find_all('meta')\n",
    "for tag in metas:\n",
    "    if tag.get(\"name\") == \"description\":\n",
    "        descript = tag.get(\"content\")"
   ]
  },
  {
   "cell_type": "code",
   "execution_count": 42,
   "id": "21e08909-4fdf-4190-8c85-be52ac41d15b",
   "metadata": {},
   "outputs": [
    {
     "data": {
      "text/plain": [
       "'President Donald Trump’s second term is off to an historic start.\\xa0The President is wasting no time delivering on the promises he made to the American'"
      ]
     },
     "execution_count": 42,
     "metadata": {},
     "output_type": "execute_result"
    }
   ],
   "source": [
    "descript"
   ]
  },
  {
   "cell_type": "code",
   "execution_count": 43,
   "id": "931b4693-5bb5-4e7a-b43f-56899a74d861",
   "metadata": {},
   "outputs": [
    {
     "data": {
      "text/plain": [
       "[<meta charset=\"utf-8\"/>,\n",
       " <meta content=\"width=device-width, initial-scale=1\" name=\"viewport\"/>,\n",
       " <meta content=\"index, follow, max-image-preview:large, max-snippet:-1, max-video-preview:-1\" name=\"robots\"/>,\n",
       " <meta content=\"President Donald Trump’s second term is off to an historic start. The President is wasting no time delivering on the promises he made to the American\" name=\"description\"/>,\n",
       " <meta content=\"en_US\" property=\"og:locale\"/>,\n",
       " <meta content=\"article\" property=\"og:type\"/>,\n",
       " <meta content=\"The First 100 Hours: Historic Action to Kick off America's Golden Age – The White House\" property=\"og:title\"/>,\n",
       " <meta content=\"President Donald Trump’s second term is off to an historic start. The President is wasting no time delivering on the promises he made to the American\" property=\"og:description\"/>,\n",
       " <meta content=\"https://www.whitehouse.gov/presidential-actions/2025/01/the-first-100-hours-historic-action-to-kick-off-americas-golden-age/\" property=\"og:url\"/>,\n",
       " <meta content=\"The White House\" property=\"og:site_name\"/>,\n",
       " <meta content=\"https://www.facebook.com/WhiteHouse/\" property=\"article:publisher\"/>,\n",
       " <meta content=\"2025-01-24T21:09:03+00:00\" property=\"article:published_time\"/>,\n",
       " <meta content=\"2025-01-24T21:09:41+00:00\" property=\"article:modified_time\"/>,\n",
       " <meta content=\"https://www.whitehouse.gov/wp-content/uploads/2025/01/WH47-Social-Share-Card-Navy-1200x628-1.png\" property=\"og:image\"/>,\n",
       " <meta content=\"1200\" property=\"og:image:width\"/>,\n",
       " <meta content=\"628\" property=\"og:image:height\"/>,\n",
       " <meta content=\"image/png\" property=\"og:image:type\"/>,\n",
       " <meta content=\"summary_large_image\" name=\"twitter:card\"/>,\n",
       " <meta content=\"@whitehouse\" name=\"twitter:creator\"/>,\n",
       " <meta content=\"@whitehouse\" name=\"twitter:site\"/>]"
      ]
     },
     "execution_count": 43,
     "metadata": {},
     "output_type": "execute_result"
    }
   ],
   "source": [
    "metas"
   ]
  },
  {
   "cell_type": "code",
   "execution_count": null,
   "id": "e25bfa5b-e199-4ee1-9cee-4b1bc17fd908",
   "metadata": {},
   "outputs": [],
   "source": []
  }
 ],
 "metadata": {
  "kernelspec": {
   "display_name": "Python 3 (ipykernel)",
   "language": "python",
   "name": "python3"
  },
  "language_info": {
   "codemirror_mode": {
    "name": "ipython",
    "version": 3
   },
   "file_extension": ".py",
   "mimetype": "text/x-python",
   "name": "python",
   "nbconvert_exporter": "python",
   "pygments_lexer": "ipython3",
   "version": "3.13.1"
  }
 },
 "nbformat": 4,
 "nbformat_minor": 5
}
